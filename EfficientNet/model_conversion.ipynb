{
 "cells": [
  {
   "cell_type": "code",
   "execution_count": 3,
   "id": "6aa2d5be-a7c9-4434-a249-890d6b5873a1",
   "metadata": {},
   "outputs": [
    {
     "name": "stderr",
     "output_type": "stream",
     "text": [
      "WARNING:absl:Compiled the loaded model, but the compiled metrics have yet to be built. `model.compile_metrics` will be empty until you train or evaluate the model.\n"
     ]
    },
    {
     "name": "stdout",
     "output_type": "stream",
     "text": [
      "INFO:tensorflow:Assets written to: saved_dense_emotion\\assets\n"
     ]
    },
    {
     "name": "stderr",
     "output_type": "stream",
     "text": [
      "INFO:tensorflow:Assets written to: saved_dense_emotion\\assets\n"
     ]
    },
    {
     "name": "stdout",
     "output_type": "stream",
     "text": [
      "Model saved as TensorFlow SavedModel at {saved_model_dir}\n"
     ]
    }
   ],
   "source": [
    "#Code to turn h5 model into a saved model and then into onnx\n",
    "#Initially used when converting to a model Unity can read, however it is now unused as Unity was having issues with recognition\n",
    "#An alternate emotion recognition method was used\n",
    "import tensorflow as tf\n",
    "import tf2onnx\n",
    "\n",
    "# Load the Keras model from the .h5 file\n",
    "#model = tf.keras.models.load_model('emotion_detection_model.h5')\n",
    "model = tf.keras.models.load_model('densenet_model.h5')\n",
    "\n",
    "saved_model_dir = 'saved_dense_emotion'\n",
    "tf.saved_model.save(model, saved_model_dir)\n",
    "\n",
    "print(\"Model saved as TensorFlow SavedModel at {saved_model_dir}\")\n",
    "\n",
    "#The below code was used in a command prompt to change a Saved model into onnx\n",
    "#pip install numpy==1.23.5 --user\n",
    "#python -m tf2onnx.convert --saved-model saved_model_emotion --output emotion_model.onnx --opset 13\n",
    "#python -m tf2onnx.convert --saved-model saved_dense_emotion --output dense_model.onnx --opset 13"
   ]
  },
  {
   "cell_type": "code",
   "execution_count": 5,
   "id": "77939837-7728-4790-b2df-215138f6462e",
   "metadata": {},
   "outputs": [
    {
     "name": "stdout",
     "output_type": "stream",
     "text": [
      "[array([[0.15800469, 0.04281884, 0.16146655, 0.1692985 , 0.17242318,\n",
      "        0.19188185, 0.10410638]], dtype=float32)]\n"
     ]
    }
   ],
   "source": [
    "import onnxruntime as ort\n",
    "import numpy as np\n",
    "\n",
    "session = ort.InferenceSession(\"dense_model.onnx\")\n",
    "input_name = session.get_inputs()[0].name\n",
    "output_name = session.get_outputs()[0].name\n",
    "\n",
    "# Simulate random input\n",
    "random_input = np.random.rand(1, 48, 48, 3).astype(np.float32)\n",
    "pred = session.run([output_name], {input_name: random_input})\n",
    "print(pred)"
   ]
  },
  {
   "cell_type": "code",
   "execution_count": 7,
   "id": "7f9ebdf5-1094-43ac-88fc-5f41937d5f1b",
   "metadata": {},
   "outputs": [
    {
     "name": "stdout",
     "output_type": "stream",
     "text": [
      "Predicted Index: 5\n",
      "Predicted Emotion: Sad\n"
     ]
    }
   ],
   "source": [
    "import numpy as np\n",
    "\n",
    "probabilities = np.array([0.15800469, 0.04281884, 0.16146655, 0.1692985, 0.17242318, 0.19188185, 0.10410638])\n",
    "predicted_index = np.argmax(probabilities)\n",
    "print(\"Predicted Index:\", predicted_index)\n",
    "\n",
    "class_labels = [\"Angry\", \"Disgust\", \"Fear\", \"Happy\", \"Neutral\", \"Sad\", \"Surprise\"]\n",
    "predicted_emotion = class_labels[predicted_index]\n",
    "print(\"Predicted Emotion:\", predicted_emotion)"
   ]
  },
  {
   "cell_type": "code",
   "execution_count": null,
   "id": "e3f9dd2f-2da7-41ff-a1fc-89e47a6585a9",
   "metadata": {},
   "outputs": [],
   "source": []
  }
 ],
 "metadata": {
  "kernelspec": {
   "display_name": "Python 3 (ipykernel)",
   "language": "python",
   "name": "python3"
  },
  "language_info": {
   "codemirror_mode": {
    "name": "ipython",
    "version": 3
   },
   "file_extension": ".py",
   "mimetype": "text/x-python",
   "name": "python",
   "nbconvert_exporter": "python",
   "pygments_lexer": "ipython3",
   "version": "3.10.8"
  }
 },
 "nbformat": 4,
 "nbformat_minor": 5
}
